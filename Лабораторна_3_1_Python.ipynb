{
  "cells": [
    {
      "cell_type": "markdown",
      "metadata": {
        "id": "view-in-github",
        "colab_type": "text"
      },
      "source": [
        "<a href=\"https://colab.research.google.com/github/ivanchyshyn96/gitrepository/blob/main/%D0%9B%D0%B0%D0%B1%D0%BE%D1%80%D0%B0%D1%82%D0%BE%D1%80%D0%BD%D0%B0_3_1_Python.ipynb\" target=\"_parent\"><img src=\"https://colab.research.google.com/assets/colab-badge.svg\" alt=\"Open In Colab\"/></a>"
      ]
    },
    {
      "cell_type": "markdown",
      "source": [
        "                            \n",
        "\n",
        "                                           Лабораторна робота №3.1\n",
        "                                   З дисципліни \"Основи Комп'ютерних наук\"\n",
        "                                                  \n",
        "                                                                        \n",
        "                                                                                Виконав                        \n",
        "                                                                                студент групи КНШІ-11    \n",
        "                                                                               Іванчишин Юрій\n",
        "\n",
        "                                       \n"
      ],
      "metadata": {
        "id": "FIxcrace_T-p"
      }
    },
    {
      "cell_type": "markdown",
      "source": [
        "**Пайтон** — високорівнева мова програмування, яку називають другою за популярністю в світі. Її використовують для розробки вебзастосунків, програмного забезпечення, машинного навчання. Python застосовують для вирішення робочих завдань у компаніях Google, Instagram, Facebook, IBM, NASA, Dropbox, Netflix та інших."
      ],
      "metadata": {
        "id": "fQHpvipAUF7J"
      }
    },
    {
      "cell_type": "markdown",
      "source": [
        "Ось для прикладу зразок коду на Pyton"
      ],
      "metadata": {
        "id": "RZB8-D8AW5Dn"
      }
    },
    {
      "cell_type": "code",
      "source": [
        "def greet(name):\n",
        "    print(\"Hello, \" + name + \"!\")\n",
        "\n",
        "def add_numbers(a, b):\n",
        "    return a + b\n",
        "\n",
        "def multiply_numbers(x, y):\n",
        "    return x * y\n",
        "\n",
        "name = input(\"Enter your name: \")\n",
        "greet(name)\n",
        "\n",
        "num1 = float(input(\"Enter the first number: \"))\n",
        "num2 = float(input(\"Enter the second number: \"))\n",
        "\n",
        "result = add_numbers(num1, num2)\n",
        "print(\"The sum is:\", result)\n",
        "\n",
        "result = multiply_numbers(num1, num2)\n",
        "print(\"The product is:\", result)\n"
      ],
      "metadata": {
        "id": "QVObrpBeXCU7",
        "outputId": "63e88204-7ad6-451a-d509-097422ba7563",
        "colab": {
          "base_uri": "https://localhost:8080/"
        }
      },
      "execution_count": null,
      "outputs": [
        {
          "output_type": "stream",
          "name": "stdout",
          "text": [
            "Enter your name: Yuriy\n",
            "Hello, Yuriy!\n",
            "Enter the first number: 17\n",
            "Enter the second number: 8\n",
            "The sum is: 25.0\n",
            "The product is: 136.0\n"
          ]
        }
      ]
    },
    {
      "cell_type": "markdown",
      "source": [
        "У цьому прикладі є три англійських функції: greet (привітання), add_numbers (додавання чисел) та multiply_numbers (множення чисел). Крім того, є використання вбудованих функцій Python, таких як print, input, float.\n",
        "\n",
        "Цей код просить користувача ввести своє ім'я, вітає його, потім запитує два числа, додає їх разом та виводить результат, а потім перемножує їх та також виводить результат."
      ],
      "metadata": {
        "id": "vAohnf2CXF9A"
      }
    },
    {
      "cell_type": "markdown",
      "source": [
        "Ось ще один приклад коду на Python"
      ],
      "metadata": {
        "id": "xnBrW8UyXzXE"
      }
    },
    {
      "cell_type": "code",
      "source": [
        "def calculate_fibonacci(n):\n",
        "    fib_sequence = [0, 1]\n",
        "    while len(fib_sequence) < n:\n",
        "        next_fib = fib_sequence[-1] + fib_sequence[-2]\n",
        "        fib_sequence.append(next_fib)\n",
        "    return fib_sequence\n",
        "\n",
        "def find_max_number(numbers):\n",
        "    max_num = float('-inf')\n",
        "    for num in numbers:\n",
        "        if num > max_num:\n",
        "            max_num = num\n",
        "    return max_num\n",
        "\n",
        "def greet_user():\n",
        "    user_name = input(\"Enter your name: \")\n",
        "    print(\"Hello, \" + user_name + \"!\")\n",
        "\n",
        "def main():\n",
        "    greet_user()\n",
        "\n",
        "    num_count = int(input(\"How many Fibonacci numbers do you want to generate? \"))\n",
        "    fibonacci_numbers = calculate_fibonacci(num_count)\n",
        "    print(\"The first\", num_count, \"Fibonacci numbers are:\", fibonacci_numbers)\n",
        "\n",
        "    num_list = [float(x) for x in input(\"Enter a list of numbers, separated by spaces: \").split()]\n",
        "    max_num = find_max_number(num_list)\n",
        "    print(\"The maximum number in the list is:\", max_num)\n",
        "\n",
        "if __name__ == \"__main__\":\n",
        "    main()\n"
      ],
      "metadata": {
        "id": "emJozlW_YOFC",
        "outputId": "9e3ca6a6-d943-412c-aae5-dd52a482acda",
        "colab": {
          "base_uri": "https://localhost:8080/"
        }
      },
      "execution_count": null,
      "outputs": [
        {
          "output_type": "stream",
          "name": "stdout",
          "text": [
            "Enter your name: Yuriy\n",
            "Hello, Yuriy!\n",
            "How many Fibonacci numbers do you want to generate? 70\n",
            "The first 70 Fibonacci numbers are: [0, 1, 1, 2, 3, 5, 8, 13, 21, 34, 55, 89, 144, 233, 377, 610, 987, 1597, 2584, 4181, 6765, 10946, 17711, 28657, 46368, 75025, 121393, 196418, 317811, 514229, 832040, 1346269, 2178309, 3524578, 5702887, 9227465, 14930352, 24157817, 39088169, 63245986, 102334155, 165580141, 267914296, 433494437, 701408733, 1134903170, 1836311903, 2971215073, 4807526976, 7778742049, 12586269025, 20365011074, 32951280099, 53316291173, 86267571272, 139583862445, 225851433717, 365435296162, 591286729879, 956722026041, 1548008755920, 2504730781961, 4052739537881, 6557470319842, 10610209857723, 17167680177565, 27777890035288, 44945570212853, 72723460248141, 117669030460994]\n",
            "Enter a list of numbers, separated by spaces: 8\n",
            "The maximum number in the list is: 8.0\n"
          ]
        }
      ]
    },
    {
      "cell_type": "markdown",
      "source": [
        "У цьому прикладі визначені три англійські функції: calculate_fibonacci (генерація чисел Фібоначчі), find_max_number (знаходження максимального числа в списку) та greet_user (привітання користувача). Крім того, використовуються англійські назви змінних, такі як fib_sequence, next_fib, max_num, user_name, num_count, fibonacci_numbers, num_list, тощо."
      ],
      "metadata": {
        "id": "6vd4xm0mYQI4"
      }
    },
    {
      "cell_type": "code",
      "source": [
        "!mkdir /content/Лабораторні роботи"
      ],
      "metadata": {
        "id": "nzjKnBC6KfKc"
      },
      "execution_count": null,
      "outputs": []
    },
    {
      "cell_type": "code",
      "source": [
        "!mkdir /content/Лабораторні роботи/Домашня_робота"
      ],
      "metadata": {
        "id": "um125YS0Khhr"
      },
      "execution_count": null,
      "outputs": []
    },
    {
      "cell_type": "code",
      "source": [
        "!touch /content/Лабораторні роботи/Домашня_робота/ЛР№3.txt"
      ],
      "metadata": {
        "id": "tRftGVUNKr_E"
      },
      "execution_count": null,
      "outputs": []
    },
    {
      "cell_type": "code",
      "source": [
        "!rm -rf /content/Лабораторні роботи\n"
      ],
      "metadata": {
        "id": "I5WTCs_2K-ok"
      },
      "execution_count": null,
      "outputs": []
    },
    {
      "cell_type": "code",
      "source": [
        "import matplotlib.pyplot as plt\n",
        "import numpy as np\n",
        "\n",
        "# Generate x values from -8 to 8\n",
        "x = np.linspace(-8, 8, 100)\n",
        "\n",
        "# Calculate corresponding y values for a standard upward-facing parabola, e.g., y = x^2\n",
        "y = x**2\n",
        "\n",
        "# Plot the upward-facing parabola\n",
        "plt.plot(x, y, label='Парабола: $y = x^2$')\n",
        "\n",
        "# Set labels for x and y axes\n",
        "plt.xlabel('Значення x')\n",
        "plt.ylabel('Значення y')\n",
        "\n",
        "# Set the title of the plot\n",
        "plt.title('Графік параболи')\n",
        "\n",
        "# Display the legend\n",
        "plt.legend()\n",
        "\n",
        "# Show the plot\n",
        "plt.show()\n"
      ],
      "metadata": {
        "id": "fMrAlBmMbLTt",
        "outputId": "a9677624-cdbe-4d0a-e518-e6e43f6e0fc4",
        "colab": {
          "base_uri": "https://localhost:8080/",
          "height": 472
        }
      },
      "execution_count": null,
      "outputs": [
        {
          "output_type": "display_data",
          "data": {
            "text/plain": [
              "<Figure size 640x480 with 1 Axes>"
            ],
            "image/png": "[encoded data removed]"
          },
          "metadata": {}
        }
      ]
    }
  ],
  "metadata": {
    "colab": {
      "provenance": [],
      "include_colab_link": true
    },
    "kernelspec": {
      "display_name": "Python 3",
      "name": "python3"
    }
  },
  "nbformat": 4,
  "nbformat_minor": 0
}